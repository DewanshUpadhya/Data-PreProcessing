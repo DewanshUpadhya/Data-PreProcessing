{
 "cells": [
  {
   "cell_type": "code",
   "execution_count": 2,
   "id": "0ed1df4e-fd76-47f7-9365-f0958bd6f1f8",
   "metadata": {},
   "outputs": [
    {
     "name": "stdout",
     "output_type": "stream",
     "text": [
      "hi i am in constructor\n",
      "5\n",
      "hi i am in constructor\n",
      "13\n"
     ]
    }
   ],
   "source": [
    "class thirdyear:\n",
    "    def __init__(self,a,b):#magical/dunder\n",
    "        print(\"hi i am in constructor\")\n",
    "        print(a+b)\n",
    "    def fun(self):\n",
    "        print(\"in fun\")\n",
    "\n",
    "#objectname=classname()\n",
    "obj=thirdyear(2,3,)\n",
    "obj2=thirdyear(6,7)"
   ]
  },
  {
   "cell_type": "code",
   "execution_count": 3,
   "id": "a1d9f7a8-7b1b-4c48-8e9f-e12785da5fde",
   "metadata": {},
   "outputs": [
    {
     "name": "stdout",
     "output_type": "stream",
     "text": [
      "6th\n",
      "6th\n",
      "4th\n",
      "4th\n",
      "i am a classmethod\n",
      "i am static\n",
      "i am static\n"
     ]
    }
   ],
   "source": [
    "#variables in class\n",
    "class thirdyear:\n",
    "    s=\"6th\"#throuhout the class\n",
    "    def display(self):\n",
    "        sem='4th' #local\n",
    "        print(sem)\n",
    "    @classmethod\n",
    "    def fun(cls):\n",
    "        print(\"i am a classmethod\")\n",
    "    @staticmethod\n",
    "    def fun2():\n",
    "        print(\"i am static\")\n",
    "obj=thirdyear()\n",
    "print(thirdyear.s)\n",
    "print(obj.s)\n",
    "obj.display()\n",
    "thirdyear.display(obj)\n",
    "thirdyear.fun()\n",
    "thirdyear.fun2()\n",
    "obj.fun2()"
   ]
  },
  {
   "cell_type": "code",
   "execution_count": 4,
   "id": "59479486-6186-4f88-ae37-b13078fa134d",
   "metadata": {},
   "outputs": [
    {
     "name": "stdout",
     "output_type": "stream",
     "text": [
      "Note: you may need to restart the kernel to use updated packages.\n"
     ]
    }
   ],
   "source": []
  },
  {
   "cell_type": "code",
   "execution_count": null,
   "id": "ede33f2d-b905-430a-82b2-deef0a8f0b8a",
   "metadata": {},
   "outputs": [],
   "source": []
  }
 ],
 "metadata": {
  "kernelspec": {
   "display_name": "Python 3 (ipykernel)",
   "language": "python",
   "name": "python3"
  },
  "language_info": {
   "codemirror_mode": {
    "name": "ipython",
    "version": 3
   },
   "file_extension": ".py",
   "mimetype": "text/x-python",
   "name": "python",
   "nbconvert_exporter": "python",
   "pygments_lexer": "ipython3",
   "version": "3.9.12"
  }
 },
 "nbformat": 4,
 "nbformat_minor": 5
}
